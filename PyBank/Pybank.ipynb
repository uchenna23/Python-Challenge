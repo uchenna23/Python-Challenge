{
 "cells": [
  {
   "cell_type": "code",
   "execution_count": 1,
   "id": "490d79bf",
   "metadata": {},
   "outputs": [],
   "source": [
    "#import csv and os\n",
    "import csv\n",
    "import os"
   ]
  },
  {
   "cell_type": "code",
   "execution_count": 2,
   "id": "5d2544fa",
   "metadata": {},
   "outputs": [],
   "source": [
    "#select csv file\n",
    "budget_csv= os.path.join(\"Resources\", \"budget_data.csv\")"
   ]
  },
  {
   "cell_type": "code",
   "execution_count": 3,
   "id": "062b8fb4",
   "metadata": {},
   "outputs": [],
   "source": [
    "#create lists\n",
    "date = []\n",
    "profit = []\n",
    "monthly_change = []"
   ]
  },
  {
   "cell_type": "code",
   "execution_count": 4,
   "id": "e84ab919",
   "metadata": {},
   "outputs": [],
   "source": [
    "#set variables = 0\n",
    "count = 0\n",
    "net_profit = 0\n",
    "last_month_profit = 0\n",
    "current_month_profit = 0\n",
    "change_in_profit = 0"
   ]
  },
  {
   "cell_type": "code",
   "execution_count": 5,
   "id": "968b5357",
   "metadata": {},
   "outputs": [],
   "source": [
    "#read csv file\n",
    "with open(budget_csv, newline=\"\") as csvfile:\n",
    "    csvreader = csv.reader(csvfile, delimiter=\",\")\n",
    "    csv_header = next(csvreader)\n",
    "    for line in csvreader:\n",
    "        count = count + 1\n",
    "        net_profit = int(line[1]) + net_profit\n",
    "        date.append(line[0])\n",
    "        current_month_profit= int(line[1])\n",
    "        if count != 1:\n",
    "            \n",
    "            change_in_profit = current_month_profit - last_month_profit\n",
    "            monthly_change.append(change_in_profit)\n",
    "        last_month_profit = int(line[1])\n",
    "    \n",
    "avg_change = sum(monthly_change)/ len(monthly_change)\n",
    "\n",
    "greatest_increase_profits = max(monthly_change)\n",
    "greatest_decrease_profits = min(monthly_change)\n",
    "\n",
    "increase_date = date[monthly_change.index(greatest_increase_profits)]\n",
    "decrease_date = date[monthly_change.index(greatest_decrease_profits)]"
   ]
  },
  {
   "cell_type": "code",
   "execution_count": 6,
   "id": "7f0a20de",
   "metadata": {},
   "outputs": [
    {
     "name": "stdout",
     "output_type": "stream",
     "text": [
      "Financial Analysis\n",
      "------------------------------------\n",
      "Total Months: 86\n",
      "Total Profits: $38382578\n",
      "Average Change: $-2315\n",
      "Greatest Increase in Profits: Jan-2012 ($1926159)\n",
      "Greatest Decrease in Profits: Aug-2013 ($-2196167)\n"
     ]
    }
   ],
   "source": [
    "#Clean up the data\n",
    "print(\"Financial Analysis\")\n",
    "print(\"------------------------------------\")\n",
    "print(\"Total Months: \" + str(count))\n",
    "print(\"Total Profits: \" + \"$\" + str(net_profit))\n",
    "print(\"Average Change: \" + \"$\" + str(int(avg_change)))\n",
    "print(\"Greatest Increase in Profits: \" + str(increase_date) + \" ($\" + str(greatest_increase_profits) + \")\")\n",
    "print(\"Greatest Decrease in Profits: \" + str(decrease_date) + \" ($\" + str(greatest_decrease_profits)+ \")\")"
   ]
  }
 ],
 "metadata": {
  "kernelspec": {
   "display_name": "Python 3",
   "language": "python",
   "name": "python3"
  },
  "language_info": {
   "codemirror_mode": {
    "name": "ipython",
    "version": 3
   },
   "file_extension": ".py",
   "mimetype": "text/x-python",
   "name": "python",
   "nbconvert_exporter": "python",
   "pygments_lexer": "ipython3",
   "version": "3.6.10"
  }
 },
 "nbformat": 4,
 "nbformat_minor": 5
}
