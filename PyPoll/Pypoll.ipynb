{
 "cells": [
  {
   "cell_type": "code",
   "execution_count": 1,
   "id": "0ca46f0c",
   "metadata": {},
   "outputs": [],
   "source": [
    "#import csv and os\n",
    "import csv\n",
    "import os"
   ]
  },
  {
   "cell_type": "code",
   "execution_count": 2,
   "id": "ae7c4736",
   "metadata": {},
   "outputs": [],
   "source": [
    "#select csvfile\n",
    "vote_csv = os.path.join(\"Resources\", \"election_data.csv\")"
   ]
  },
  {
   "cell_type": "code",
   "execution_count": 3,
   "id": "3d697cf2",
   "metadata": {},
   "outputs": [],
   "source": [
    "#create dictionary for candidates and votes\n",
    "elections = {}"
   ]
  },
  {
   "cell_type": "code",
   "execution_count": 4,
   "id": "f3ef25a4",
   "metadata": {},
   "outputs": [],
   "source": [
    "#set variables = 0\n",
    "total_votes = 0"
   ]
  },
  {
   "cell_type": "code",
   "execution_count": 5,
   "id": "3033c86b",
   "metadata": {},
   "outputs": [],
   "source": [
    "#create lists\n",
    "candidates = []\n",
    "vote_count = []\n",
    "vote_percentage = []\n",
    "winners_list = []"
   ]
  },
  {
   "cell_type": "code",
   "execution_count": 6,
   "id": "e8e8dde1",
   "metadata": {},
   "outputs": [],
   "source": [
    "#read csvfile\n",
    "with open(vote_csv,'r') as csvfile:\n",
    "    csvreader= csv.reader(csvfile)\n",
    "    csv_header=next(csvreader)\n",
    "    for line in csvreader:\n",
    "        total_votes = total_votes + 1\n",
    "        if line[2] in elections.keys():\n",
    "            elections[line[2]] = elections[line[2]] + 1\n",
    "        else:\n",
    "            elections[line[2]] = 1"
   ]
  },
  {
   "cell_type": "code",
   "execution_count": 7,
   "id": "336329bf",
   "metadata": {},
   "outputs": [],
   "source": [
    "#put dictionary items into lists\n",
    "for key, value in elections.items():\n",
    "    candidates.append(key)\n",
    "    vote_count.append(value)\n",
    "for x in vote_count:\n",
    "    vote_percentage.append(round(x/total_votes*100, 1))"
   ]
  },
  {
   "cell_type": "code",
   "execution_count": 8,
   "id": "aaaa809e",
   "metadata": {},
   "outputs": [],
   "source": [
    "#clean the data\n",
    "new_data = list(zip(candidates, vote_count, vote_percentage))"
   ]
  },
  {
   "cell_type": "code",
   "execution_count": 9,
   "id": "6ba95425",
   "metadata": {},
   "outputs": [],
   "source": [
    "#place winners in winners list\n",
    "for name in new_data:\n",
    "    if max(vote_count) == name[1]:\n",
    "        winners_list.append(name[0])\n",
    "\n",
    "winner = winners_list[0]\n",
    "\n",
    "if len(winners_list) > 1:\n",
    "    for w in range(1, len(winners_list)):\n",
    "        winner = winner + \", \" + winners_list[w]"
   ]
  },
  {
   "cell_type": "code",
   "execution_count": 10,
   "id": "2a20af65",
   "metadata": {},
   "outputs": [
    {
     "name": "stdout",
     "output_type": "stream",
     "text": [
      "Election Results \n",
      "------------------------- \n",
      "Total Votes: 3521001\n",
      "-------------------------\n",
      "Khan: 63.0%  (2218231)\n",
      "Correy: 20.0%  (704200)\n",
      "Li: 14.0%  (492940)\n",
      "O'Tooley: 3.0%  (105630)\n",
      "------------------------- \n",
      "Winner: Khan\n",
      "-------------------------\n"
     ]
    }
   ],
   "source": [
    "output_file = os.path.join('election_results.txt')\n",
    "\n",
    "with open(output_file, 'w') as txtfile:\n",
    "    txtfile.writelines('Election Results \\n------------------------- \\nTotal Votes: ' + str(total_votes) + \n",
    "      '\\n-------------------------\\n')\n",
    "    for entry in new_data:\n",
    "        txtfile.writelines(entry[0] + \": \" + str(entry[2]) +'%  (' + str(entry[1]) + ')\\n')\n",
    "    txtfile.writelines('------------------------- \\nWinner: ' + winner + '\\n-------------------------')\n",
    "\n",
    "with open(output_file, 'r') as readfile:\n",
    "    print(readfile.read())"
   ]
  }
 ],
 "metadata": {
  "kernelspec": {
   "display_name": "Python 3",
   "language": "python",
   "name": "python3"
  },
  "language_info": {
   "codemirror_mode": {
    "name": "ipython",
    "version": 3
   },
   "file_extension": ".py",
   "mimetype": "text/x-python",
   "name": "python",
   "nbconvert_exporter": "python",
   "pygments_lexer": "ipython3",
   "version": "3.6.10"
  }
 },
 "nbformat": 4,
 "nbformat_minor": 5
}
