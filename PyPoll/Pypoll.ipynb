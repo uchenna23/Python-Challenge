{
 "cells": [
  {
   "cell_type": "code",
   "execution_count": 47,
   "id": "a45e52ff",
   "metadata": {},
   "outputs": [],
   "source": [
    "#import csv and os\n",
    "import csv\n",
    "import os"
   ]
  },
  {
   "cell_type": "code",
   "execution_count": 48,
   "id": "8becbff4",
   "metadata": {},
   "outputs": [],
   "source": [
    "#select csvfile\n",
    "vote_csv = os.path.join(\"Resources\", \"election_data.csv\")"
   ]
  },
  {
   "cell_type": "code",
   "execution_count": 49,
   "id": "9d5a67ed",
   "metadata": {},
   "outputs": [],
   "source": [
    "#create dictionary for candidates and votes\n",
    "elections = {}"
   ]
  },
  {
   "cell_type": "code",
   "execution_count": 50,
   "id": "d7f5b1bc",
   "metadata": {},
   "outputs": [],
   "source": [
    "#set variables = 0\n",
    "total_votes = 0"
   ]
  },
  {
   "cell_type": "code",
   "execution_count": 51,
   "id": "60eb24d8",
   "metadata": {},
   "outputs": [],
   "source": [
    "#create lists\n",
    "candidates = []\n",
    "vote_count = []"
   ]
  },
  {
   "cell_type": "code",
   "execution_count": 52,
   "id": "fbc58244",
   "metadata": {},
   "outputs": [],
   "source": [
    "#read csvfile\n",
    "with open(vote_csv,'r') as csvfile:\n",
    "    csvreader= csv.reader(csvfile)\n",
    "    csv_header=next(csvreader)\n",
    "    for line in csvreader:\n",
    "        total_votes = total_votes + 1\n",
    "        if line[2] in elections.keys():\n",
    "            elections[line[2]] = elections[line[2]] + 1\n",
    "        else:\n",
    "            elections[line[2]] = 1"
   ]
  },
  {
   "cell_type": "code",
   "execution_count": 53,
   "id": "69da1297",
   "metadata": {},
   "outputs": [],
   "source": [
    "#put dictionary items into lists\n",
    "for key, value in elections.items():\n",
    "    candidates.append(key)\n",
    "    vote_count.append(value)\n",
    "    \n",
    "vote_percentage = []\n",
    "for x in vote_count:\n",
    "    vote_percentage.append(round(x/total_votes*100, 1))"
   ]
  },
  {
   "cell_type": "code",
   "execution_count": 54,
   "id": "d5ab002d",
   "metadata": {},
   "outputs": [],
   "source": [
    "#clean the data\n",
    "new_data = list(zip(candidates, vote_count, vote_percentage))"
   ]
  },
  {
   "cell_type": "code",
   "execution_count": 55,
   "id": "6b41ca6d",
   "metadata": {},
   "outputs": [],
   "source": [
    "#place winners in winners list\n",
    "winners_list = []\n",
    "for name in new_data:\n",
    "    if max(vote_count) == name[1]:\n",
    "        winners_list.append(name[0])\n",
    "\n",
    "winner = winners_list[0]\n",
    "\n",
    "if len(winners_list) > 1:\n",
    "    for w in range(1, len(winners_list)):\n",
    "        winner = winner + \", \" + winners_list[w]"
   ]
  },
  {
   "cell_type": "code",
   "execution_count": 57,
   "id": "86d36a09",
   "metadata": {},
   "outputs": [
    {
     "name": "stdout",
     "output_type": "stream",
     "text": [
      "Election Results \n",
      "------------------------- \n",
      "Total Votes: 3521001\n",
      "-------------------------\n",
      "Khan: 63.0%  (2218231)\n",
      "Correy: 20.0%  (704200)\n",
      "Li: 14.0%  (492940)\n",
      "O'Tooley: 3.0%  (105630)\n",
      "------------------------- \n",
      "Winner: Khan\n",
      "-------------------------\n"
     ]
    }
   ],
   "source": [
    "output_file = os.path.join('election_results.txt')\n",
    "\n",
    "with open(output_file, 'w') as txtfile:\n",
    "    txtfile.writelines('Election Results \\n------------------------- \\nTotal Votes: ' + str(total_votes) + \n",
    "      '\\n-------------------------\\n')\n",
    "    for entry in new_data:\n",
    "        txtfile.writelines(entry[0] + \": \" + str(entry[2]) +'%  (' + str(entry[1]) + ')\\n')\n",
    "    txtfile.writelines('------------------------- \\nWinner: ' + winner + '\\n-------------------------')\n",
    "\n",
    "with open(output_file, 'r') as readfile:\n",
    "    print(readfile.read())"
   ]
  },
  {
   "cell_type": "code",
   "execution_count": null,
   "id": "68d8d4b3",
   "metadata": {},
   "outputs": [],
   "source": [
    "print(\"Election Results\")\n",
    "print(\"------------------------------------\")\n",
    "print(\"Total Votes: \" + str(vote_count)\n",
    "print(\"------------------------------------\")\n",
    "print(\"Average Change: \" + \"$\" + str(int(avg_change)))\n",
    "print(\"Greatest Increase in Profits: \" + str(increase_date) + \" ($\" + str(greatest_increase_profits) + \")\")\n",
    "print(\"Greatest Decrease in Profits: \" + str(decrease_date) + \" ($\" + str(greatest_decrease_profits)+ \")\")"
   ]
  },
  {
   "cell_type": "code",
   "execution_count": null,
   "id": "ff03f9e0",
   "metadata": {},
   "outputs": [],
   "source": []
  },
  {
   "cell_type": "code",
   "execution_count": null,
   "id": "c0053a89",
   "metadata": {},
   "outputs": [],
   "source": []
  },
  {
   "cell_type": "code",
   "execution_count": null,
   "id": "cdc1c4cf",
   "metadata": {},
   "outputs": [],
   "source": []
  }
 ],
 "metadata": {
  "kernelspec": {
   "display_name": "Python 3",
   "language": "python",
   "name": "python3"
  },
  "language_info": {
   "codemirror_mode": {
    "name": "ipython",
    "version": 3
   },
   "file_extension": ".py",
   "mimetype": "text/x-python",
   "name": "python",
   "nbconvert_exporter": "python",
   "pygments_lexer": "ipython3",
   "version": "3.6.10"
  }
 },
 "nbformat": 4,
 "nbformat_minor": 5
}
